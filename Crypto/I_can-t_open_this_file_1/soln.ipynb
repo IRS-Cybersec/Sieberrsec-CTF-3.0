{
 "cells": [
  {
   "cell_type": "code",
   "execution_count": 2,
   "metadata": {
    "collapsed": true,
    "pycharm": {
     "name": "#%%\n"
    }
   },
   "outputs": [
    {
     "name": "stdout",
     "output_type": "stream",
     "text": [
      "b'IRS{n0w_y0u_c4n_c0d3}'\n"
     ]
    }
   ],
   "source": [
    "import base64\n",
    "flag = open(\"flag.txt.encrypted\", \"r\").read()\n",
    "digits = \"0123456789abcdefghijklmnopqrstuvwxyzABCDEFGHIJKLMNOPQRSTUVWXYZ+/=\"\n",
    "encrypted = ''\n",
    "split_flag = [flag[i:i+2] for i in range(0, len(flag), 2)]\n",
    "flag = ''\n",
    "for i in split_flag:\n",
    "    flag += digits[int(i)]\n",
    "flag = flag.encode('ascii')\n",
    "flag = base64.b64decode(flag)\n",
    "print(flag)"
   ]
  },
  {
   "cell_type": "markdown",
   "source": [],
   "metadata": {
    "collapsed": false
   }
  }
 ],
 "metadata": {
  "kernelspec": {
   "display_name": "Python 3",
   "language": "python",
   "name": "python3"
  },
  "language_info": {
   "codemirror_mode": {
    "name": "ipython",
    "version": 2
   },
   "file_extension": ".py",
   "mimetype": "text/x-python",
   "name": "python",
   "nbconvert_exporter": "python",
   "pygments_lexer": "ipython2",
   "version": "2.7.6"
  }
 },
 "nbformat": 4,
 "nbformat_minor": 0
}