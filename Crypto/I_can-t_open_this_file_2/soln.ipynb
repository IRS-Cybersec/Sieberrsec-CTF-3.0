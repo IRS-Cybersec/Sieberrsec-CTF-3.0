{
 "cells": [
  {
   "cell_type": "code",
   "execution_count": 3,
   "metadata": {
    "collapsed": true
   },
   "outputs": [],
   "source": [
    "import base64\n",
    "for key in range(0, 66):\n",
    "    flag = open(\"flag.jpg.encrypted\", \"r\").read()\n",
    "    digits = \"0123456789abcdefghijklmnopqrstuvwxyzABCDEFGHIJKLMNOPQRSTUVWXYZ+/=\"\n",
    "    split_flag = [flag[i:i+2] for i in range(0, len(flag), 2)]\n",
    "    ans = ''\n",
    "    for i in split_flag:\n",
    "        index = (int(i) + key) % 65\n",
    "        flag += digits[index]\n",
    "    flag = flag.encode('ascii')\n",
    "    flag = base64.b64decode(flag)\n",
    "    with open(f'flag{key}.jpg', 'wb') as f:\n",
    "        f.write(flag)"
   ]
  }
 ],
 "metadata": {
  "kernelspec": {
   "display_name": "Python 3",
   "language": "python",
   "name": "python3"
  },
  "language_info": {
   "codemirror_mode": {
    "name": "ipython",
    "version": 2
   },
   "file_extension": ".py",
   "mimetype": "text/x-python",
   "name": "python",
   "nbconvert_exporter": "python",
   "pygments_lexer": "ipython2",
   "version": "2.7.6"
  }
 },
 "nbformat": 4,
 "nbformat_minor": 0
}